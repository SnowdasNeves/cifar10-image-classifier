{
 "cells": [
  {
   "cell_type": "markdown",
   "metadata": {},
   "source": [
    "# Using Megadetector to Detect BBox"
   ]
  },
  {
   "cell_type": "code",
   "execution_count": null,
   "metadata": {},
   "outputs": [],
   "source": [
    "import os\n",
    "import json\n",
    "from PIL import Image\n",
    "from tqdm import tqdm\n",
    "import megadetector as md\n",
    "\n",
    "model_file = \"megadetector/md_v5a.0.0.pt\"  # Path to the MegaDetector model file\n",
    "detector = md.load_detector(model_file)\n",
    "\n",
    "# Paths to images and output JSON file\n",
    "images_dir = \"cct20-images\"\n",
    "output_json = \"megadetector_results.json\"\n",
    "\n",
    "# Process all images in the dataset\n",
    "image_filenames = [f for f in os.listdir(images_dir) if f.lower().endswith(('.jpg', '.jpeg', '.png'))]\n",
    "results = []\n",
    "\n",
    "for image_filename in tqdm(image_filenames, desc=\"Processing images\"):\n",
    "    image_path = os.path.join(images_dir, image_filename)\n",
    "    image = Image.open(image_path).convert(\"RGB\")\n",
    "\n",
    "    # Run MegaDetector on the image\n",
    "    detections = md.process_image(detector, image_path, detection_threshold=0.2)\n",
    "\n",
    "    # Store results\n",
    "    results.append({\n",
    "        \"file_name\": image_filename,\n",
    "        \"detections\": detections[\"detections\"]\n",
    "    })\n",
    "\n",
    "# Save results to JSON\n",
    "with open(output_json, \"w\") as f:\n",
    "    json.dump(results, f, indent=4)\n",
    "\n",
    "print(f\"Detection results saved to {output_json}\")\n"
   ]
  }
 ],
 "metadata": {
  "kernelspec": {
   "display_name": ".venv",
   "language": "python",
   "name": "python3"
  },
  "language_info": {
   "name": "python",
   "version": "3.12.8"
  }
 },
 "nbformat": 4,
 "nbformat_minor": 2
}
